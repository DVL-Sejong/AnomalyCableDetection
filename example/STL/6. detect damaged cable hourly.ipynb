{
 "cells": [
  {
   "cell_type": "markdown",
   "id": "a2ef5bcc",
   "metadata": {},
   "source": [
    "# Cross-correlation, get lowest cable"
   ]
  },
  {
   "cell_type": "code",
   "execution_count": 1,
   "id": "fd7bf92e",
   "metadata": {},
   "outputs": [],
   "source": [
    "from pathlib import Path\n",
    "import os\n",
    "\n",
    "os.chdir(Path(os.getcwd()).parent)"
   ]
  },
  {
   "cell_type": "code",
   "execution_count": 2,
   "id": "3c762739",
   "metadata": {},
   "outputs": [],
   "source": [
    "from AnomalyCableDetection.load import Loader, Preprocessor\n",
    "from AnomalyCableDetection.stl import CableSTL, CrossCorrelation, AdjacencyType\n",
    "from AnomalyCableDetection.plot import *"
   ]
  },
  {
   "cell_type": "code",
   "execution_count": 3,
   "id": "d10500b9",
   "metadata": {},
   "outputs": [],
   "source": [
    "from os.path import join\n",
    "from pathlib import Path\n",
    "\n",
    "import matplotlib.dates as mdates\n",
    "import matplotlib.pylab as plt\n",
    "import pandas as pd\n",
    "import numpy as np\n",
    "import glob\n",
    "import os\n",
    "import re"
   ]
  },
  {
   "cell_type": "code",
   "execution_count": 4,
   "id": "f59e20f8",
   "metadata": {},
   "outputs": [],
   "source": [
    "cc_path = join(Path(os.getcwd()), 'results', 'cross_correlation', 'raw_period_3600')\n",
    "hourly_path = join(cc_path, 'RESIDUAL', 'hourly')"
   ]
  },
  {
   "cell_type": "code",
   "execution_count": 5,
   "id": "d9293172",
   "metadata": {},
   "outputs": [],
   "source": [
    "first_df = pd.read_csv(join(hourly_path, '2009-05-05.csv'), index_col=0)\n",
    "second_df = pd.read_csv(join(hourly_path, '2011-11-01.csv'), index_col=0)"
   ]
  },
  {
   "cell_type": "code",
   "execution_count": 6,
   "id": "30ee9303",
   "metadata": {},
   "outputs": [
    {
     "name": "stdout",
     "output_type": "stream",
     "text": [
      "hour 0\n",
      "SJS11 99.48194665399635\n",
      "\n",
      "hour 1\n",
      "SJS11 55.11277636463948\n",
      "\n",
      "hour 2\n",
      "SJX11 24.628498065271323\n",
      "\n",
      "hour 3\n",
      "SJS11 -1.52754838605023\n",
      "\n",
      "hour 4\n",
      "SJS11 44.65740773090812\n",
      "\n",
      "hour 5\n",
      "SJS11 45.26687008849371\n",
      "\n",
      "hour 6\n",
      "SJS11 33.279246533031724\n",
      "\n",
      "hour 7\n",
      "SJS11 -12.460206934635988\n",
      "\n",
      "hour 8\n",
      "SJS11 -12.865361510083332\n",
      "\n",
      "hour 9\n",
      "SJS11 36.40523959170587\n",
      "\n",
      "hour 10\n",
      "SJS11 -17.252389652414244\n",
      "\n",
      "hour 11\n",
      "SJS11 34.30443878938852\n",
      "\n",
      "hour 12\n",
      "SJS11 -15.998109181438977\n",
      "\n",
      "hour 13\n",
      "SJS11 -12.469874108706353\n",
      "\n",
      "hour 14\n",
      "SJS11 26.305560442568627\n",
      "\n",
      "hour 15\n",
      "SJS11 18.594796561677736\n",
      "\n",
      "hour 16\n",
      "SJS11 14.847817935928177\n",
      "\n",
      "hour 17\n",
      "SJS11 60.93836428737951\n",
      "\n",
      "hour 18\n",
      "SJS11 105.80134184018395\n",
      "\n",
      "hour 19\n",
      "SJS11 77.34536326460587\n",
      "\n",
      "hour 20\n",
      "SJS11 57.82213614842333\n",
      "\n",
      "hour 21\n",
      "SJS11 48.02127692725735\n",
      "\n",
      "hour 22\n",
      "SJS11 41.84798129002107\n",
      "\n",
      "hour 23\n",
      "SJS11 23.284212348986234\n",
      "\n"
     ]
    }
   ],
   "source": [
    "for i in range(24):\n",
    "    print(f'hour {i}')\n",
    "    min_cable = ''\n",
    "    min_rate = 10000000000\n",
    "    rate_list = []\n",
    "    for cable in first_df.index.to_list():\n",
    "        value1 = first_df.loc[cable, str(i)]\n",
    "        value2 = second_df.loc[cable, str(i)]\n",
    "        rate = ((value2 - value1) / value1) * 100\n",
    "        rate_list.append(rate)\n",
    "        if rate < min_rate:\n",
    "            min_cable = cable\n",
    "            min_rate = rate\n",
    "    #print(rate_list)\n",
    "    print(min_cable, min_rate)\n",
    "    print()"
   ]
  },
  {
   "cell_type": "code",
   "execution_count": null,
   "id": "5b9f00d2",
   "metadata": {},
   "outputs": [],
   "source": []
  }
 ],
 "metadata": {
  "kernelspec": {
   "display_name": "Python (AnomalyCableDetection)",
   "language": "python",
   "name": "anomalycabledetection"
  },
  "language_info": {
   "codemirror_mode": {
    "name": "ipython",
    "version": 3
   },
   "file_extension": ".py",
   "mimetype": "text/x-python",
   "name": "python",
   "nbconvert_exporter": "python",
   "pygments_lexer": "ipython3",
   "version": "3.8.8"
  }
 },
 "nbformat": 4,
 "nbformat_minor": 5
}
