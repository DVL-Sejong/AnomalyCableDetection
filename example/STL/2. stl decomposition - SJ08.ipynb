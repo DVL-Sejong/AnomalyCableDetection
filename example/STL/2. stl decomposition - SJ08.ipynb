{
 "cells": [
  {
   "cell_type": "markdown",
   "id": "d9642705",
   "metadata": {},
   "source": [
    "# Time Series Analysis"
   ]
  },
  {
   "cell_type": "code",
   "execution_count": 1,
   "id": "acf127ea",
   "metadata": {},
   "outputs": [],
   "source": [
    "from pathlib import Path\n",
    "import os\n",
    "\n",
    "os.chdir(Path(os.getcwd()).parent)"
   ]
  },
  {
   "cell_type": "code",
   "execution_count": 2,
   "id": "50a39a53",
   "metadata": {},
   "outputs": [],
   "source": [
    "from AnomalyCableDetection.load import Loader, Preprocessor\n",
    "from AnomalyCableDetection.stl import CableSTL\n",
    "from AnomalyCableDetection.plot import *"
   ]
  },
  {
   "cell_type": "markdown",
   "id": "edab4fee",
   "metadata": {},
   "source": [
    "### Load dataset"
   ]
  },
  {
   "cell_type": "code",
   "execution_count": 3,
   "id": "ff21f3c0",
   "metadata": {},
   "outputs": [],
   "source": [
    "loader = Loader(iqr=True, pre_version=-1)\n",
    "dates = loader.get_dates()\n",
    "tension_dict = loader.load_raw_dataset()"
   ]
  },
  {
   "cell_type": "code",
   "execution_count": 4,
   "id": "d4f60cf0",
   "metadata": {},
   "outputs": [],
   "source": [
    "first_df = tension_dict[dates[0]]\n",
    "cable_names = first_df.columns.tolist()\n",
    "length = len(first_df.index.to_list())"
   ]
  },
  {
   "cell_type": "markdown",
   "id": "a02eaa64",
   "metadata": {},
   "source": [
    "### STL"
   ]
  },
  {
   "cell_type": "code",
   "execution_count": 5,
   "id": "bff94d3f",
   "metadata": {},
   "outputs": [],
   "source": [
    "worker = CableSTL(3600, 0, length, 'raw')\n",
    "dates = ['2006-05-13', '2006-05-14', '2006-05-15', '2006-05-16']"
   ]
  },
  {
   "cell_type": "code",
   "execution_count": 6,
   "id": "19024d05",
   "metadata": {},
   "outputs": [
    {
     "name": "stdout",
     "output_type": "stream",
     "text": [
      "saving stl data to /home/vislab/Github/AnomalyCableDetection/results/raw_period_3600/2006-05-13_SJS08.csv\n",
      "saving stl data to /home/vislab/Github/AnomalyCableDetection/results/raw_period_3600/2006-05-14_SJS08.csv\n",
      "saving stl data to /home/vislab/Github/AnomalyCableDetection/results/raw_period_3600/2006-05-15_SJS08.csv\n",
      "saving stl data to /home/vislab/Github/AnomalyCableDetection/results/raw_period_3600/2006-05-16_SJS08.csv\n"
     ]
    }
   ],
   "source": [
    "cable = 'SJS08'\n",
    "\n",
    "for date in dates:\n",
    "    tension_df = tension_dict[date]\n",
    "    stl_df = worker.get_cable_stl(tension_df, cable, date)"
   ]
  },
  {
   "cell_type": "code",
   "execution_count": 7,
   "id": "e4487d10",
   "metadata": {},
   "outputs": [
    {
     "name": "stdout",
     "output_type": "stream",
     "text": [
      "saving stl data to /home/vislab/Github/AnomalyCableDetection/results/raw_period_3600/2006-05-13_SJX08.csv\n",
      "saving stl data to /home/vislab/Github/AnomalyCableDetection/results/raw_period_3600/2006-05-14_SJX08.csv\n",
      "saving stl data to /home/vislab/Github/AnomalyCableDetection/results/raw_period_3600/2006-05-15_SJX08.csv\n",
      "saving stl data to /home/vislab/Github/AnomalyCableDetection/results/raw_period_3600/2006-05-16_SJX08.csv\n"
     ]
    }
   ],
   "source": [
    "cable = 'SJX08'\n",
    "\n",
    "for date in dates:\n",
    "    tension_df = tension_dict[date]\n",
    "    stl_df = worker.get_cable_stl(tension_df, cable, date)"
   ]
  },
  {
   "cell_type": "code",
   "execution_count": null,
   "id": "145286ca",
   "metadata": {},
   "outputs": [],
   "source": []
  }
 ],
 "metadata": {
  "kernelspec": {
   "display_name": "Python (AnomalyCableDetection)",
   "language": "python",
   "name": "anomalycabledetection"
  },
  "language_info": {
   "codemirror_mode": {
    "name": "ipython",
    "version": 3
   },
   "file_extension": ".py",
   "mimetype": "text/x-python",
   "name": "python",
   "nbconvert_exporter": "python",
   "pygments_lexer": "ipython3",
   "version": "3.8.8"
  }
 },
 "nbformat": 4,
 "nbformat_minor": 5
}
