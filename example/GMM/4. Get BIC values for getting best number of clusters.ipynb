{
 "cells": [
  {
   "cell_type": "markdown",
   "id": "877e4d13",
   "metadata": {},
   "source": [
    "# BIC"
   ]
  },
  {
   "cell_type": "code",
   "execution_count": 1,
   "id": "9c537e7e",
   "metadata": {},
   "outputs": [],
   "source": [
    "from pathlib import Path\n",
    "import os\n",
    "\n",
    "os.chdir(Path(os.getcwd()).parent)"
   ]
  },
  {
   "cell_type": "code",
   "execution_count": 2,
   "id": "6e93e874",
   "metadata": {},
   "outputs": [],
   "source": [
    "from AnomalyCableDetection.load import Loader, Preprocessor\n",
    "from AnomalyCableDetection.stl import CableSTL, CrossCorrelation, AdjacencyType\n",
    "from AnomalyCableDetection.gmm import *\n",
    "from AnomalyCableDetection.plot import *"
   ]
  },
  {
   "cell_type": "code",
   "execution_count": 3,
   "id": "ad6a7b2a",
   "metadata": {},
   "outputs": [],
   "source": [
    "from sklearn import mixture\n",
    "from os.path import join\n",
    "from pathlib import Path\n",
    "\n",
    "import matplotlib.dates as mdates\n",
    "import matplotlib.pylab as plt\n",
    "import seaborn as sns\n",
    "import pandas as pd\n",
    "import numpy as np\n",
    "import glob\n",
    "import os\n",
    "import re"
   ]
  },
  {
   "cell_type": "code",
   "execution_count": 4,
   "id": "338d44ad",
   "metadata": {},
   "outputs": [],
   "source": [
    "hour = 10"
   ]
  },
  {
   "cell_type": "code",
   "execution_count": 5,
   "id": "c04d3fe3",
   "metadata": {},
   "outputs": [],
   "source": [
    "gmm = CableGMM(hourly=True, hour=hour)\n",
    "cable_dict = gmm.cable_dict\n",
    "date_list = gmm.date_list\n",
    "scatter_dict = gmm.scatter_dict\n",
    "cable_list = get_dup_cable_numbers(cable_dict[date_list[0]])"
   ]
  },
  {
   "cell_type": "markdown",
   "id": "23d3cf32",
   "metadata": {},
   "source": [
    "```python\n",
    "bic_path = join(Path(os.getcwd()), 'results', 'gmm', 'bic_hourly')\n",
    "\n",
    "best_cluster_list = []\n",
    "for cable_number in cable_list:\n",
    "    bic_df, best_cluster = gmm.get_cable_bic_set(cable_number)\n",
    "    bic_df.to_csv(join(bic_path, f'SJ{str(cable_number).zfill(2)}_{hour}.csv'))\n",
    "    best_cluster_list.append(best_cluster)\n",
    "```"
   ]
  },
  {
   "cell_type": "code",
   "execution_count": 6,
   "id": "7e2a4dcf",
   "metadata": {},
   "outputs": [
    {
     "name": "stdout",
     "output_type": "stream",
     "text": [
      "/home/vislab/Github/AnomalyCableDetection/results/gmm/bic_hourly/SJ09_10.csv\n",
      "/home/vislab/Github/AnomalyCableDetection/results/gmm/bic_hourly/SJ10_10.csv\n",
      "/home/vislab/Github/AnomalyCableDetection/results/gmm/bic_hourly/SJ11_10.csv\n",
      "/home/vislab/Github/AnomalyCableDetection/results/gmm/bic_hourly/SJ12_10.csv\n",
      "/home/vislab/Github/AnomalyCableDetection/results/gmm/bic_hourly/SJ14_10.csv\n"
     ]
    }
   ],
   "source": [
    "bic_path = join(Path(os.getcwd()), 'results', 'gmm', 'bic_hourly')\n",
    "path_list = glob.glob(join(bic_path, f'*_{hour}.csv'))\n",
    "cable_regex = r'[A-X]{2}\\d{2}'\n",
    "\n",
    "cable_names = []\n",
    "bic_dict = dict()\n",
    "for path in path_list:\n",
    "    print(path)\n",
    "    m = re.search(cable_regex, path)\n",
    "    cable_name = m.group()\n",
    "    cable_names.append(cable_name)\n",
    "    bic_df = pd.read_csv(path, index_col=0)\n",
    "    bic_dict.update({cable_name: bic_df})"
   ]
  },
  {
   "cell_type": "code",
   "execution_count": 7,
   "id": "eb0a8c4f",
   "metadata": {},
   "outputs": [
    {
     "data": {
      "text/html": [
       "<div>\n",
       "<style scoped>\n",
       "    .dataframe tbody tr th:only-of-type {\n",
       "        vertical-align: middle;\n",
       "    }\n",
       "\n",
       "    .dataframe tbody tr th {\n",
       "        vertical-align: top;\n",
       "    }\n",
       "\n",
       "    .dataframe thead th {\n",
       "        text-align: right;\n",
       "    }\n",
       "</style>\n",
       "<table border=\"1\" class=\"dataframe\">\n",
       "  <thead>\n",
       "    <tr style=\"text-align: right;\">\n",
       "      <th></th>\n",
       "      <th>1</th>\n",
       "      <th>2</th>\n",
       "      <th>3</th>\n",
       "      <th>4</th>\n",
       "      <th>5</th>\n",
       "      <th>6</th>\n",
       "      <th>7</th>\n",
       "      <th>8</th>\n",
       "      <th>9</th>\n",
       "    </tr>\n",
       "  </thead>\n",
       "  <tbody>\n",
       "    <tr>\n",
       "      <th>SJ09</th>\n",
       "      <td>101.047312</td>\n",
       "      <td>97.442782</td>\n",
       "      <td>107.462648</td>\n",
       "      <td>116.727166</td>\n",
       "      <td>126.658076</td>\n",
       "      <td>137.818926</td>\n",
       "      <td>147.405554</td>\n",
       "      <td>157.471373</td>\n",
       "      <td>167.497456</td>\n",
       "    </tr>\n",
       "    <tr>\n",
       "      <th>SJ10</th>\n",
       "      <td>90.56338</td>\n",
       "      <td>87.576672</td>\n",
       "      <td>97.156126</td>\n",
       "      <td>109.335348</td>\n",
       "      <td>120.099361</td>\n",
       "      <td>129.421487</td>\n",
       "      <td>140.122169</td>\n",
       "      <td>150.090554</td>\n",
       "      <td>160.649159</td>\n",
       "    </tr>\n",
       "    <tr>\n",
       "      <th>SJ11</th>\n",
       "      <td>79.390347</td>\n",
       "      <td>75.247794</td>\n",
       "      <td>88.008405</td>\n",
       "      <td>99.312809</td>\n",
       "      <td>108.742882</td>\n",
       "      <td>119.956171</td>\n",
       "      <td>129.828465</td>\n",
       "      <td>140.130158</td>\n",
       "      <td>150.556695</td>\n",
       "    </tr>\n",
       "    <tr>\n",
       "      <th>SJ12</th>\n",
       "      <td>74.82438</td>\n",
       "      <td>67.813485</td>\n",
       "      <td>74.806951</td>\n",
       "      <td>86.280701</td>\n",
       "      <td>97.587505</td>\n",
       "      <td>107.186279</td>\n",
       "      <td>117.65655</td>\n",
       "      <td>129.303911</td>\n",
       "      <td>140.897012</td>\n",
       "    </tr>\n",
       "    <tr>\n",
       "      <th>SJ14</th>\n",
       "      <td>55.771414</td>\n",
       "      <td>48.765423</td>\n",
       "      <td>59.531989</td>\n",
       "      <td>71.703425</td>\n",
       "      <td>83.209271</td>\n",
       "      <td>94.028536</td>\n",
       "      <td>102.217071</td>\n",
       "      <td>113.825666</td>\n",
       "      <td>123.898189</td>\n",
       "    </tr>\n",
       "  </tbody>\n",
       "</table>\n",
       "</div>"
      ],
      "text/plain": [
       "               1          2           3           4           5           6  \\\n",
       "SJ09  101.047312  97.442782  107.462648  116.727166  126.658076  137.818926   \n",
       "SJ10    90.56338  87.576672   97.156126  109.335348  120.099361  129.421487   \n",
       "SJ11   79.390347  75.247794   88.008405   99.312809  108.742882  119.956171   \n",
       "SJ12    74.82438  67.813485   74.806951   86.280701   97.587505  107.186279   \n",
       "SJ14   55.771414  48.765423   59.531989   71.703425   83.209271   94.028536   \n",
       "\n",
       "               7           8           9  \n",
       "SJ09  147.405554  157.471373  167.497456  \n",
       "SJ10  140.122169  150.090554  160.649159  \n",
       "SJ11  129.828465  140.130158  150.556695  \n",
       "SJ12   117.65655  129.303911  140.897012  \n",
       "SJ14  102.217071  113.825666  123.898189  "
      ]
     },
     "execution_count": 7,
     "metadata": {},
     "output_type": "execute_result"
    }
   ],
   "source": [
    "tmp_df = bic_dict[cable_names[0]]\n",
    "columns = tmp_df.columns.tolist()\n",
    "\n",
    "mean_df = pd.DataFrame(index=cable_names, columns=columns)\n",
    "\n",
    "for cable_name in bic_dict:\n",
    "    bic_df = bic_dict[cable_name]\n",
    "    mean = bic_df.loc['mean',:].to_list()\n",
    "    mean_df.loc[cable_name, :] = mean\n",
    "    \n",
    "mean_df"
   ]
  },
  {
   "cell_type": "code",
   "execution_count": 8,
   "id": "b88c6942",
   "metadata": {},
   "outputs": [
    {
     "name": "stdout",
     "output_type": "stream",
     "text": [
      "saving mean_df to /home/vislab/Github/AnomalyCableDetection/results/gmm/bic_hourly/mean_10.csv\n"
     ]
    }
   ],
   "source": [
    "mean_path = join(bic_path, f'mean_{hour}.csv')\n",
    "mean_df.to_csv(mean_path)\n",
    "print(f'saving mean_df to {mean_path}')"
   ]
  },
  {
   "cell_type": "code",
   "execution_count": 9,
   "id": "ec777acb",
   "metadata": {},
   "outputs": [
    {
     "name": "stdout",
     "output_type": "stream",
     "text": [
      "SJ09 2\n",
      "SJ10 2\n",
      "SJ11 2\n",
      "SJ12 2\n",
      "SJ14 2\n"
     ]
    }
   ],
   "source": [
    "for index, row in mean_df.iterrows():\n",
    "    row = row.to_list()\n",
    "    best_cluster = row.index(min(row)) + 1\n",
    "    print(index, best_cluster)"
   ]
  },
  {
   "cell_type": "code",
   "execution_count": null,
   "id": "02bc2336",
   "metadata": {},
   "outputs": [],
   "source": []
  }
 ],
 "metadata": {
  "kernelspec": {
   "display_name": "Python (AnomalyCableDetection)",
   "language": "python",
   "name": "anomalycabledetection"
  },
  "language_info": {
   "codemirror_mode": {
    "name": "ipython",
    "version": 3
   },
   "file_extension": ".py",
   "mimetype": "text/x-python",
   "name": "python",
   "nbconvert_exporter": "python",
   "pygments_lexer": "ipython3",
   "version": "3.8.8"
  }
 },
 "nbformat": 4,
 "nbformat_minor": 5
}
