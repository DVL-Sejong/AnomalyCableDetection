{
 "cells": [
  {
   "cell_type": "markdown",
   "id": "71442a6e",
   "metadata": {},
   "source": [
    "# GMM"
   ]
  },
  {
   "cell_type": "code",
   "execution_count": 1,
   "id": "013a7721",
   "metadata": {},
   "outputs": [],
   "source": [
    "from pathlib import Path\n",
    "import os\n",
    "\n",
    "os.chdir(Path(os.getcwd()).parent)"
   ]
  },
  {
   "cell_type": "code",
   "execution_count": 2,
   "id": "e0144d86",
   "metadata": {},
   "outputs": [],
   "source": [
    "from AnomalyCableDetection.load import Loader, Preprocessor\n",
    "from AnomalyCableDetection.stl import CableSTL, CrossCorrelation, AdjacencyType\n",
    "from AnomalyCableDetection.gmm import *\n",
    "from AnomalyCableDetection.plot import *"
   ]
  },
  {
   "cell_type": "code",
   "execution_count": 3,
   "id": "f9684ac9",
   "metadata": {},
   "outputs": [],
   "source": [
    "from sklearn import mixture\n",
    "from os.path import join\n",
    "from pathlib import Path\n",
    "\n",
    "import matplotlib.colors as mcolors\n",
    "import matplotlib.dates as mdates\n",
    "import matplotlib.pylab as plt\n",
    "import seaborn as sns\n",
    "import pandas as pd\n",
    "import numpy as np\n",
    "import glob\n",
    "import os\n",
    "import re"
   ]
  },
  {
   "cell_type": "code",
   "execution_count": 4,
   "id": "b38155c9",
   "metadata": {},
   "outputs": [],
   "source": [
    "cable_number = 10"
   ]
  },
  {
   "cell_type": "markdown",
   "id": "6fbbd404",
   "metadata": {},
   "source": [
    "### Load pre1 dataset"
   ]
  },
  {
   "cell_type": "code",
   "execution_count": 5,
   "id": "a63ceb15",
   "metadata": {},
   "outputs": [],
   "source": [
    "gmm = CableGMM()\n",
    "cable_dict = gmm.cable_dict\n",
    "date_list = gmm.date_list\n",
    "scatter_dict = gmm.scatter_dict\n",
    "cable_name = f'SJ{str(cable_number).zfill(2)}'"
   ]
  },
  {
   "cell_type": "markdown",
   "id": "f6d786ac",
   "metadata": {},
   "source": [
    "### Load best number of clusters"
   ]
  },
  {
   "cell_type": "code",
   "execution_count": 6,
   "id": "3b33f4e9",
   "metadata": {},
   "outputs": [],
   "source": [
    "bic_path = join(Path(os.getcwd()), 'results', 'gmm', 'bic')\n",
    "mean_path = join(bic_path, 'mean.csv')\n",
    "mean_df = pd.read_csv(mean_path, index_col=0)\n",
    "mean_list = mean_df.loc[cable_name, :].to_list()\n",
    "n_clusters = mean_list.index(min(mean_list)) + 1"
   ]
  },
  {
   "cell_type": "markdown",
   "id": "39ae153e",
   "metadata": {},
   "source": [
    "### Get GMM model results"
   ]
  },
  {
   "cell_type": "code",
   "execution_count": 7,
   "id": "9d243c9d",
   "metadata": {},
   "outputs": [],
   "source": [
    "gmm_dict = dict()\n",
    "x_min = 10000\n",
    "x_max = -0.00001\n",
    "\n",
    "for date in date_list:\n",
    "    gmm_df = gmm.get_gmm_model_with_n_clusters(date, cable_number, 2)\n",
    "    x_list = gmm_df.loc[:, 'x'].to_list()\n",
    "    if min(x_list) < x_min:\n",
    "        x_min = min(x_list)\n",
    "    if max(x_list) > x_max:\n",
    "        x_max = max(x_list)\n",
    "    gmm_dict.update({date: gmm_df})"
   ]
  },
  {
   "cell_type": "markdown",
   "id": "9c4b7989",
   "metadata": {},
   "source": [
    "### Contour Visualize"
   ]
  },
  {
   "cell_type": "code",
   "execution_count": 8,
   "id": "cd109139",
   "metadata": {},
   "outputs": [],
   "source": [
    "def map_x_axis(old_axis, new_axis):\n",
    "    new_min = min(new_axis)\n",
    "    new_max = max(new_axis)\n",
    "    new_len = len(new_axis)\n",
    "    one_step = (new_max - new_min) / new_len\n",
    "    \n",
    "    index_list = []\n",
    "    for old_value in old_axis:\n",
    "        index = int((old_value - new_min) / one_step)\n",
    "        index_list.append(index)\n",
    "    \n",
    "    return index_list"
   ]
  },
  {
   "cell_type": "code",
   "execution_count": 9,
   "id": "bd60534d",
   "metadata": {},
   "outputs": [
    {
     "data": {
      "image/png": "[encoded data removed]",
      "text/plain": [
       "<Figure size 432x288 with 2 Axes>"
      ]
     },
     "metadata": {
      "needs_background": "light"
     },
     "output_type": "display_data"
    }
   ],
   "source": [
    "xp = np.linspace(x_min-0.01, x_max+0.01, 10000)\n",
    "yp = date_list\n",
    "zp = np.empty((len(yp), len(xp)))\n",
    "\n",
    "for i, date in enumerate(date_list):\n",
    "    gmm_df = gmm_dict[date]\n",
    "    x_list = gmm_df.loc[:, 'x'].to_list()\n",
    "    x_index_list = map_x_axis(x_list, xp)\n",
    "    \n",
    "    y_list = gmm_df.loc[:, 'y'].to_list()\n",
    "    \n",
    "    for j, x_index in enumerate(x_index_list):\n",
    "        zp[i][x_index] = y_list[j]\n",
    "        \n",
    "contours = plt.contour(xp, yp, zp, cmap='turbo')\n",
    "norm = mcolors.Normalize(vmin=contours.cvalues.min(), vmax=contours.cvalues.max())\n",
    "\n",
    "sm = plt.cm.ScalarMappable(norm=norm, cmap=contours.cmap)\n",
    "sm.set_array([])\n",
    "\n",
    "plt.colorbar(sm, ticks=contours.levels)\n",
    "plt.title(f'PDF contour of {cable_name}')\n",
    "plt.xlabel(u'\\u03B6')\n",
    "plt.show()"
   ]
  },
  {
   "cell_type": "code",
   "execution_count": null,
   "id": "a9d6a9e3",
   "metadata": {},
   "outputs": [],
   "source": []
  }
 ],
 "metadata": {
  "kernelspec": {
   "display_name": "Python (AnomalyCableDetection)",
   "language": "python",
   "name": "anomalycabledetection"
  },
  "language_info": {
   "codemirror_mode": {
    "name": "ipython",
    "version": 3
   },
   "file_extension": ".py",
   "mimetype": "text/x-python",
   "name": "python",
   "nbconvert_exporter": "python",
   "pygments_lexer": "ipython3",
   "version": "3.8.8"
  }
 },
 "nbformat": 4,
 "nbformat_minor": 5
}
